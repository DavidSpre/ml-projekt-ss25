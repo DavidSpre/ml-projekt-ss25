{
 "cells": [
  {
   "cell_type": "markdown",
   "id": "b073a6b8-b1f8-4f00-9eea-a1a4a528374d",
   "metadata": {},
   "source": [
    "# ML Projekt SS25 Gruppe 256378"
   ]
  },
  {
   "cell_type": "markdown",
   "id": "2589447d-5a67-41ec-9bee-9cedb05f4117",
   "metadata": {
    "jp-MarkdownHeadingCollapsed": true
   },
   "source": [
    "## Mitglieder \n",
    "(Soll das noch raus? Kommt eigentlich in dem Email Body, mehr als Platzhalter hier)"
   ]
  },
  {
   "cell_type": "markdown",
   "id": "7c92f21e-1733-4698-8bf9-a7076f50ff8e",
   "metadata": {},
   "source": [
    "### Namen: David Sprengart, Florian Hertel, Lars Hoffmann\n",
    "### RZ-Kürzel: spda1019, hefl1025, hola1017\n",
    "### Studiengang: INFB, INFB, INFB"
   ]
  },
  {
   "cell_type": "markdown",
   "id": "4049ae7a-32ff-40be-a005-8fdb08696653",
   "metadata": {},
   "source": [
    "## Aufgabe"
   ]
  },
  {
   "cell_type": "markdown",
   "id": "36547bd2-bb0a-4464-9e4b-45a8b233cde7",
   "metadata": {},
   "source": [
    "### 0. Imports"
   ]
  },
  {
   "cell_type": "code",
   "execution_count": 1,
   "id": "257d42af-d425-4fa2-bc0d-6b1dfa988204",
   "metadata": {},
   "outputs": [],
   "source": [
    "import pandas as pd\n",
    "import matplotlib.pyplot as plt\n",
    "import seaborn as sns\n",
    "import ast\n",
    "from collections import Counter\n",
    "from sklearn.preprocessing import StandardScaler\n",
    "from sklearn.linear_model import LogisticRegression\n",
    "from sklearn.ensemble import RandomForestClassifier\n",
    "from sklearn.model_selection import GridSearchCV\n",
    "from sklearn.ensemble import GradientBoostingClassifier"
   ]
  },
  {
   "cell_type": "markdown",
   "id": "d8c1d11d-bdc1-40e4-b6c0-fbdfc46d73ba",
   "metadata": {},
   "source": [
    "### 1. Laden Sie die Trainingsdaten."
   ]
  },
  {
   "cell_type": "code",
   "execution_count": 2,
   "id": "d65ab6f8-8271-4d6e-84d7-19296a937eee",
   "metadata": {},
   "outputs": [
    {
     "data": {
      "text/html": [
       "<div>\n",
       "<style scoped>\n",
       "    .dataframe tbody tr th:only-of-type {\n",
       "        vertical-align: middle;\n",
       "    }\n",
       "\n",
       "    .dataframe tbody tr th {\n",
       "        vertical-align: top;\n",
       "    }\n",
       "\n",
       "    .dataframe thead th {\n",
       "        text-align: right;\n",
       "    }\n",
       "</style>\n",
       "<table border=\"1\" class=\"dataframe\">\n",
       "  <thead>\n",
       "    <tr style=\"text-align: right;\">\n",
       "      <th></th>\n",
       "      <th>transactionId</th>\n",
       "      <th>basket</th>\n",
       "      <th>customerType</th>\n",
       "      <th>totalAmount</th>\n",
       "      <th>returnLabel</th>\n",
       "    </tr>\n",
       "  </thead>\n",
       "  <tbody>\n",
       "    <tr>\n",
       "      <th>0</th>\n",
       "      <td>9534310106</td>\n",
       "      <td>[4, 3, 4]</td>\n",
       "      <td>new</td>\n",
       "      <td>252.0</td>\n",
       "      <td>1</td>\n",
       "    </tr>\n",
       "    <tr>\n",
       "      <th>1</th>\n",
       "      <td>7202594767</td>\n",
       "      <td>[4, 2, 0, 2, 5]</td>\n",
       "      <td>existing</td>\n",
       "      <td>70.0</td>\n",
       "      <td>0</td>\n",
       "    </tr>\n",
       "    <tr>\n",
       "      <th>2</th>\n",
       "      <td>2737331698</td>\n",
       "      <td>[5]</td>\n",
       "      <td>existing</td>\n",
       "      <td>84.0</td>\n",
       "      <td>0</td>\n",
       "    </tr>\n",
       "    <tr>\n",
       "      <th>3</th>\n",
       "      <td>4868011733</td>\n",
       "      <td>[1, 4, 2, 4]</td>\n",
       "      <td>existing</td>\n",
       "      <td>116.0</td>\n",
       "      <td>0</td>\n",
       "    </tr>\n",
       "    <tr>\n",
       "      <th>4</th>\n",
       "      <td>7622406570</td>\n",
       "      <td>[2, 5, 3, 2, 3, 2, 0]</td>\n",
       "      <td>existing</td>\n",
       "      <td>378.0</td>\n",
       "      <td>0</td>\n",
       "    </tr>\n",
       "    <tr>\n",
       "      <th>...</th>\n",
       "      <td>...</td>\n",
       "      <td>...</td>\n",
       "      <td>...</td>\n",
       "      <td>...</td>\n",
       "      <td>...</td>\n",
       "    </tr>\n",
       "    <tr>\n",
       "      <th>22395</th>\n",
       "      <td>5461363334</td>\n",
       "      <td>[4, 5, 4]</td>\n",
       "      <td>new</td>\n",
       "      <td>147.0</td>\n",
       "      <td>0</td>\n",
       "    </tr>\n",
       "    <tr>\n",
       "      <th>22396</th>\n",
       "      <td>9013779310</td>\n",
       "      <td>[3, 4, 4, 4, 0]</td>\n",
       "      <td>NaN</td>\n",
       "      <td>NaN</td>\n",
       "      <td>1</td>\n",
       "    </tr>\n",
       "    <tr>\n",
       "      <th>22397</th>\n",
       "      <td>1590423615</td>\n",
       "      <td>[0, 4, 3]</td>\n",
       "      <td>new</td>\n",
       "      <td>249.0</td>\n",
       "      <td>1</td>\n",
       "    </tr>\n",
       "    <tr>\n",
       "      <th>22398</th>\n",
       "      <td>1800993941</td>\n",
       "      <td>[0, 5, 1, 2, 5, 5, 4, 4]</td>\n",
       "      <td>existing</td>\n",
       "      <td>80.0</td>\n",
       "      <td>0</td>\n",
       "    </tr>\n",
       "    <tr>\n",
       "      <th>22399</th>\n",
       "      <td>9903643128</td>\n",
       "      <td>[4, 4, 0, 3]</td>\n",
       "      <td>new</td>\n",
       "      <td>492.0</td>\n",
       "      <td>1</td>\n",
       "    </tr>\n",
       "  </tbody>\n",
       "</table>\n",
       "<p>22400 rows × 5 columns</p>\n",
       "</div>"
      ],
      "text/plain": [
       "       transactionId                    basket customerType  totalAmount  \\\n",
       "0         9534310106                 [4, 3, 4]          new        252.0   \n",
       "1         7202594767           [4, 2, 0, 2, 5]     existing         70.0   \n",
       "2         2737331698                       [5]     existing         84.0   \n",
       "3         4868011733              [1, 4, 2, 4]     existing        116.0   \n",
       "4         7622406570     [2, 5, 3, 2, 3, 2, 0]     existing        378.0   \n",
       "...              ...                       ...          ...          ...   \n",
       "22395     5461363334                 [4, 5, 4]          new        147.0   \n",
       "22396     9013779310           [3, 4, 4, 4, 0]          NaN          NaN   \n",
       "22397     1590423615                 [0, 4, 3]          new        249.0   \n",
       "22398     1800993941  [0, 5, 1, 2, 5, 5, 4, 4]     existing         80.0   \n",
       "22399     9903643128              [4, 4, 0, 3]          new        492.0   \n",
       "\n",
       "       returnLabel  \n",
       "0                1  \n",
       "1                0  \n",
       "2                0  \n",
       "3                0  \n",
       "4                0  \n",
       "...            ...  \n",
       "22395            0  \n",
       "22396            1  \n",
       "22397            1  \n",
       "22398            0  \n",
       "22399            1  \n",
       "\n",
       "[22400 rows x 5 columns]"
      ]
     },
     "execution_count": 2,
     "metadata": {},
     "output_type": "execute_result"
    }
   ],
   "source": [
    "train_df = pd.read_csv(\"./data/train.csv\", delimiter =';')\n",
    "train_df"
   ]
  },
  {
   "cell_type": "markdown",
   "id": "4bba9747-1056-453c-aa8e-e035d697330e",
   "metadata": {},
   "source": [
    "### 2. Führen Sie eine kurze EDA durch"
   ]
  },
  {
   "cell_type": "markdown",
   "id": "65637556-42f0-4fee-a406-33dd4c8a74a9",
   "metadata": {},
   "source": [
    "#### Plotten Sie Histogramme zu den Features customerType und totalAmount"
   ]
  },
  {
   "cell_type": "code",
   "execution_count": 3,
   "id": "2c599049-fa66-4069-85f0-81b52eeb2178",
   "metadata": {},
   "outputs": [
    {
     "data": {
      "image/png": "[encoded data removed]",
      "text/plain": [
       "<Figure size 1500x1000 with 1 Axes>"
      ]
     },
     "metadata": {},
     "output_type": "display_data"
    }
   ],
   "source": [
    "plt.figure(figsize=(15,10))\n",
    "plt.subplot(2, 2, 1)\n",
    "train_df['customerType'].value_counts().plot(kind='bar', color='skyblue')\n",
    "plt.title(\"Verteilung: customerType\")\n",
    "plt.xlabel(\"customerType\")\n",
    "plt.ylabel(\"Anzahl\")\n",
    "plt.show()"
   ]
  },
  {
   "cell_type": "code",
   "execution_count": 4,
   "id": "2b698c4e-7008-4990-b48d-6614de67f76c",
   "metadata": {},
   "outputs": [
    {
     "data": {
      "image/png": "[encoded data removed]",
      "text/plain": [
       "<Figure size 1500x1000 with 1 Axes>"
      ]
     },
     "metadata": {},
     "output_type": "display_data"
    }
   ],
   "source": [
    "plt.figure(figsize=(15,10))\n",
    "plt.subplot(2, 2, 2)\n",
    "plt.hist(train_df['totalAmount'], bins=30, color='lightgreen', edgecolor='black')\n",
    "plt.title(\"Histogramm: totalAmount\")\n",
    "plt.xlabel(\"totalAmount\")\n",
    "plt.ylabel(\"Anzahl\")\n",
    "plt.show()"
   ]
  },
  {
   "cell_type": "markdown",
   "id": "55558a99-0d28-44fd-ae7c-028a8e42650a",
   "metadata": {},
   "source": [
    "#### Ermitteln sie die Verteilung (Histogramm) von returnLabel i) über alle Daten ii) in Abhängigkeit zu allen Ausprägungen von customerType."
   ]
  },
  {
   "cell_type": "code",
   "execution_count": 5,
   "id": "8d74bcf7-39c8-4a8d-a7eb-b54616d2078c",
   "metadata": {},
   "outputs": [
    {
     "data": {
      "image/png": "[encoded data removed]",
      "text/plain": [
       "<Figure size 500x500 with 1 Axes>"
      ]
     },
     "metadata": {},
     "output_type": "display_data"
    }
   ],
   "source": [
    "train_df['returnLabel'].hist(figsize=(5,5), bins = 3, color='red')\n",
    "plt.title(\"Verteilung: returnLabel (gesamt)\")\n",
    "plt.xlabel(\"returnLabel\")\n",
    "plt.ylabel(\"Anzahl\")\n",
    "plt.show()"
   ]
  },
  {
   "cell_type": "code",
   "execution_count": 6,
   "id": "ce8f05e8-5a7d-4dd9-95bf-3d83f62aaa9b",
   "metadata": {},
   "outputs": [
    {
     "data": {
      "image/png": "[encoded data removed]",
      "text/plain": [
       "<Figure size 1500x1000 with 1 Axes>"
      ]
     },
     "metadata": {},
     "output_type": "display_data"
    }
   ],
   "source": [
    "plt.figure(figsize=(15,10))\n",
    "plt.subplot(2, 2, 4)\n",
    "pd.crosstab(train_df['customerType'], train_df['returnLabel']).plot(kind='bar', stacked=True, ax=plt.gca())\n",
    "plt.title(\"returnLabel nach customerType\")\n",
    "plt.xlabel(\"customerType\")\n",
    "plt.ylabel(\"Anzahl\")\n",
    "\n",
    "plt.tight_layout()\n",
    "plt.show()"
   ]
  },
  {
   "cell_type": "markdown",
   "id": "5bfcccf9-a977-4685-aac1-eaac7b9af0b7",
   "metadata": {},
   "source": [
    "#### Erstellen Sie einen Boxplot für totalAmount in Abhängigkeit des Labels (nutzen Sie dafür den Parameter by=…)"
   ]
  },
  {
   "cell_type": "code",
   "execution_count": 7,
   "id": "6094943e-32e9-49e2-a168-35cf94c8796c",
   "metadata": {
    "scrolled": true
   },
   "outputs": [
    {
     "data": {
      "image/png": "[encoded data removed]",
      "text/plain": [
       "<Figure size 500x500 with 1 Axes>"
      ]
     },
     "metadata": {},
     "output_type": "display_data"
    }
   ],
   "source": [
    "train_df.boxplot(column='totalAmount', by='returnLabel', figsize=(5,5))\n",
    "plt.show()"
   ]
  },
  {
   "cell_type": "markdown",
   "id": "70e218b7-6828-4903-91b6-f1abe7727599",
   "metadata": {},
   "source": [
    "#### Installieren Sie das Seaborn-Package und erstellen Sie einen displot für totalAmount in Abhängigkeit des Labels, wie [hier](https://seaborn.pydata.org/tutorial/distributions.html#conditioning-on-other-variables) beschrieben."
   ]
  },
  {
   "cell_type": "code",
   "execution_count": 8,
   "id": "096037d9-880c-4a5f-bade-b6d28338014d",
   "metadata": {},
   "outputs": [
    {
     "name": "stderr",
     "output_type": "stream",
     "text": [
      "C:\\Users\\david\\miniconda3\\envs\\ml-course\\lib\\site-packages\\seaborn\\axisgrid.py:123: UserWarning: The figure layout has changed to tight\n",
      "  self._figure.tight_layout(*args, **kwargs)\n"
     ]
    },
    {
     "data": {
      "image/png": "[encoded data removed]",
      "text/plain": [
       "<Figure size 591.236x500 with 1 Axes>"
      ]
     },
     "metadata": {},
     "output_type": "display_data"
    }
   ],
   "source": [
    "sns.displot(train_df, x=\"totalAmount\", hue=\"returnLabel\",  fill = \"true\", bins = 40)\n",
    "plt.title(\"totalAmount in Abhängigkeit des Labels\")\n",
    "plt.show()\n",
    "# TODO: Behebe Fehlermeldung? -> \"Warten Sie bis alle Zellen fehlerfrei ausgeführt wurden\""
   ]
  },
  {
   "cell_type": "markdown",
   "id": "7807dcd0-3ed9-413e-8c21-40417afd19bc",
   "metadata": {},
   "source": [
    "### 3. Füllen Sie fehlende Werte in den Trainingsdaten auf."
   ]
  },
  {
   "cell_type": "code",
   "execution_count": 9,
   "id": "f4d804d8-de2b-4016-9efb-17053a4ef452",
   "metadata": {},
   "outputs": [
    {
     "data": {
      "text/plain": [
       "transactionId      0\n",
       "basket             0\n",
       "customerType     442\n",
       "totalAmount      477\n",
       "returnLabel        0\n",
       "dtype: int64"
      ]
     },
     "execution_count": 9,
     "metadata": {},
     "output_type": "execute_result"
    }
   ],
   "source": [
    "train_df.isnull().sum()"
   ]
  },
  {
   "cell_type": "code",
   "execution_count": 10,
   "id": "ac33772d-e943-4322-834d-6b0a4f128a62",
   "metadata": {},
   "outputs": [
    {
     "data": {
      "text/plain": [
       "transactionId    0\n",
       "basket           0\n",
       "customerType     0\n",
       "totalAmount      0\n",
       "returnLabel      0\n",
       "dtype: int64"
      ]
     },
     "execution_count": 10,
     "metadata": {},
     "output_type": "execute_result"
    }
   ],
   "source": [
    "train_df['customerType'].fillna(train_df['customerType'].mode()[0], inplace = True)\n",
    "train_df['totalAmount'].fillna(train_df['totalAmount'].mean(), inplace = True)\n",
    "train_df.isnull().sum()"
   ]
  },
  {
   "cell_type": "markdown",
   "id": "74b88da5-4f6d-4c35-a1c4-ae62c8020d57",
   "metadata": {},
   "source": [
    "### 4. Transformieren Sie die kategorischen Features mittels One-hot-encoding."
   ]
  },
  {
   "cell_type": "code",
   "execution_count": 11,
   "id": "24097990-c8b8-4984-86a6-cba65a957ad2",
   "metadata": {},
   "outputs": [
    {
     "data": {
      "text/html": [
       "<div>\n",
       "<style scoped>\n",
       "    .dataframe tbody tr th:only-of-type {\n",
       "        vertical-align: middle;\n",
       "    }\n",
       "\n",
       "    .dataframe tbody tr th {\n",
       "        vertical-align: top;\n",
       "    }\n",
       "\n",
       "    .dataframe thead th {\n",
       "        text-align: right;\n",
       "    }\n",
       "</style>\n",
       "<table border=\"1\" class=\"dataframe\">\n",
       "  <thead>\n",
       "    <tr style=\"text-align: right;\">\n",
       "      <th></th>\n",
       "      <th>transactionId</th>\n",
       "      <th>basket</th>\n",
       "      <th>customerType</th>\n",
       "      <th>totalAmount</th>\n",
       "      <th>returnLabel</th>\n",
       "    </tr>\n",
       "  </thead>\n",
       "  <tbody>\n",
       "    <tr>\n",
       "      <th>0</th>\n",
       "      <td>9534310106</td>\n",
       "      <td>[4, 3, 4]</td>\n",
       "      <td>new</td>\n",
       "      <td>252.0</td>\n",
       "      <td>1</td>\n",
       "    </tr>\n",
       "    <tr>\n",
       "      <th>1</th>\n",
       "      <td>7202594767</td>\n",
       "      <td>[4, 2, 0, 2, 5]</td>\n",
       "      <td>existing</td>\n",
       "      <td>70.0</td>\n",
       "      <td>0</td>\n",
       "    </tr>\n",
       "    <tr>\n",
       "      <th>2</th>\n",
       "      <td>2737331698</td>\n",
       "      <td>[5]</td>\n",
       "      <td>existing</td>\n",
       "      <td>84.0</td>\n",
       "      <td>0</td>\n",
       "    </tr>\n",
       "    <tr>\n",
       "      <th>3</th>\n",
       "      <td>4868011733</td>\n",
       "      <td>[1, 4, 2, 4]</td>\n",
       "      <td>existing</td>\n",
       "      <td>116.0</td>\n",
       "      <td>0</td>\n",
       "    </tr>\n",
       "    <tr>\n",
       "      <th>4</th>\n",
       "      <td>7622406570</td>\n",
       "      <td>[2, 5, 3, 2, 3, 2, 0]</td>\n",
       "      <td>existing</td>\n",
       "      <td>378.0</td>\n",
       "      <td>0</td>\n",
       "    </tr>\n",
       "  </tbody>\n",
       "</table>\n",
       "</div>"
      ],
      "text/plain": [
       "   transactionId                 basket customerType  totalAmount  returnLabel\n",
       "0     9534310106              [4, 3, 4]          new        252.0            1\n",
       "1     7202594767        [4, 2, 0, 2, 5]     existing         70.0            0\n",
       "2     2737331698                    [5]     existing         84.0            0\n",
       "3     4868011733           [1, 4, 2, 4]     existing        116.0            0\n",
       "4     7622406570  [2, 5, 3, 2, 3, 2, 0]     existing        378.0            0"
      ]
     },
     "execution_count": 11,
     "metadata": {},
     "output_type": "execute_result"
    }
   ],
   "source": [
    "train_df.head()"
   ]
  },
  {
   "cell_type": "code",
   "execution_count": 12,
   "id": "4924052d-d4e1-4339-b2d4-36c08182bf74",
   "metadata": {},
   "outputs": [
    {
     "data": {
      "text/html": [
       "<div>\n",
       "<style scoped>\n",
       "    .dataframe tbody tr th:only-of-type {\n",
       "        vertical-align: middle;\n",
       "    }\n",
       "\n",
       "    .dataframe tbody tr th {\n",
       "        vertical-align: top;\n",
       "    }\n",
       "\n",
       "    .dataframe thead th {\n",
       "        text-align: right;\n",
       "    }\n",
       "</style>\n",
       "<table border=\"1\" class=\"dataframe\">\n",
       "  <thead>\n",
       "    <tr style=\"text-align: right;\">\n",
       "      <th></th>\n",
       "      <th>transactionId</th>\n",
       "      <th>basket</th>\n",
       "      <th>totalAmount</th>\n",
       "      <th>returnLabel</th>\n",
       "      <th>customerType_new</th>\n",
       "    </tr>\n",
       "  </thead>\n",
       "  <tbody>\n",
       "    <tr>\n",
       "      <th>0</th>\n",
       "      <td>9534310106</td>\n",
       "      <td>[4, 3, 4]</td>\n",
       "      <td>252.0</td>\n",
       "      <td>1</td>\n",
       "      <td>1</td>\n",
       "    </tr>\n",
       "    <tr>\n",
       "      <th>1</th>\n",
       "      <td>7202594767</td>\n",
       "      <td>[4, 2, 0, 2, 5]</td>\n",
       "      <td>70.0</td>\n",
       "      <td>0</td>\n",
       "      <td>0</td>\n",
       "    </tr>\n",
       "    <tr>\n",
       "      <th>2</th>\n",
       "      <td>2737331698</td>\n",
       "      <td>[5]</td>\n",
       "      <td>84.0</td>\n",
       "      <td>0</td>\n",
       "      <td>0</td>\n",
       "    </tr>\n",
       "    <tr>\n",
       "      <th>3</th>\n",
       "      <td>4868011733</td>\n",
       "      <td>[1, 4, 2, 4]</td>\n",
       "      <td>116.0</td>\n",
       "      <td>0</td>\n",
       "      <td>0</td>\n",
       "    </tr>\n",
       "    <tr>\n",
       "      <th>4</th>\n",
       "      <td>7622406570</td>\n",
       "      <td>[2, 5, 3, 2, 3, 2, 0]</td>\n",
       "      <td>378.0</td>\n",
       "      <td>0</td>\n",
       "      <td>0</td>\n",
       "    </tr>\n",
       "  </tbody>\n",
       "</table>\n",
       "</div>"
      ],
      "text/plain": [
       "   transactionId                 basket  totalAmount  returnLabel  \\\n",
       "0     9534310106              [4, 3, 4]        252.0            1   \n",
       "1     7202594767        [4, 2, 0, 2, 5]         70.0            0   \n",
       "2     2737331698                    [5]         84.0            0   \n",
       "3     4868011733           [1, 4, 2, 4]        116.0            0   \n",
       "4     7622406570  [2, 5, 3, 2, 3, 2, 0]        378.0            0   \n",
       "\n",
       "   customerType_new  \n",
       "0                 1  \n",
       "1                 0  \n",
       "2                 0  \n",
       "3                 0  \n",
       "4                 0  "
      ]
     },
     "execution_count": 12,
     "metadata": {},
     "output_type": "execute_result"
    }
   ],
   "source": [
    "train_df = pd.get_dummies(train_df, columns=[\"customerType\"], dtype=int, drop_first=True)\n",
    "train_df.head()"
   ]
  },
  {
   "cell_type": "markdown",
   "id": "ab8ba34e-3c7a-474b-92a0-f24eb9132f38",
   "metadata": {},
   "source": [
    "### 5. Versuchen Sie auf Basis des Attributs basket Features zu bauen (z.B. wie oft kommt jede Kategorie im Basket vor)."
   ]
  },
  {
   "cell_type": "code",
   "execution_count": 13,
   "id": "f494f27f-4881-4b05-8b3d-99581d56b7b4",
   "metadata": {},
   "outputs": [
    {
     "data": {
      "text/html": [
       "<div>\n",
       "<style scoped>\n",
       "    .dataframe tbody tr th:only-of-type {\n",
       "        vertical-align: middle;\n",
       "    }\n",
       "\n",
       "    .dataframe tbody tr th {\n",
       "        vertical-align: top;\n",
       "    }\n",
       "\n",
       "    .dataframe thead th {\n",
       "        text-align: right;\n",
       "    }\n",
       "</style>\n",
       "<table border=\"1\" class=\"dataframe\">\n",
       "  <thead>\n",
       "    <tr style=\"text-align: right;\">\n",
       "      <th></th>\n",
       "      <th>transactionId</th>\n",
       "      <th>totalAmount</th>\n",
       "      <th>returnLabel</th>\n",
       "      <th>customerType_new</th>\n",
       "      <th>basket_cat_0</th>\n",
       "      <th>basket_cat_1</th>\n",
       "      <th>basket_cat_2</th>\n",
       "      <th>basket_cat_3</th>\n",
       "      <th>basket_cat_4</th>\n",
       "      <th>basket_cat_5</th>\n",
       "    </tr>\n",
       "  </thead>\n",
       "  <tbody>\n",
       "    <tr>\n",
       "      <th>0</th>\n",
       "      <td>9534310106</td>\n",
       "      <td>252.0</td>\n",
       "      <td>1</td>\n",
       "      <td>1</td>\n",
       "      <td>0</td>\n",
       "      <td>0</td>\n",
       "      <td>0</td>\n",
       "      <td>1</td>\n",
       "      <td>2</td>\n",
       "      <td>0</td>\n",
       "    </tr>\n",
       "    <tr>\n",
       "      <th>1</th>\n",
       "      <td>7202594767</td>\n",
       "      <td>70.0</td>\n",
       "      <td>0</td>\n",
       "      <td>0</td>\n",
       "      <td>1</td>\n",
       "      <td>0</td>\n",
       "      <td>2</td>\n",
       "      <td>0</td>\n",
       "      <td>1</td>\n",
       "      <td>1</td>\n",
       "    </tr>\n",
       "    <tr>\n",
       "      <th>2</th>\n",
       "      <td>2737331698</td>\n",
       "      <td>84.0</td>\n",
       "      <td>0</td>\n",
       "      <td>0</td>\n",
       "      <td>0</td>\n",
       "      <td>0</td>\n",
       "      <td>0</td>\n",
       "      <td>0</td>\n",
       "      <td>0</td>\n",
       "      <td>1</td>\n",
       "    </tr>\n",
       "    <tr>\n",
       "      <th>3</th>\n",
       "      <td>4868011733</td>\n",
       "      <td>116.0</td>\n",
       "      <td>0</td>\n",
       "      <td>0</td>\n",
       "      <td>0</td>\n",
       "      <td>1</td>\n",
       "      <td>1</td>\n",
       "      <td>0</td>\n",
       "      <td>2</td>\n",
       "      <td>0</td>\n",
       "    </tr>\n",
       "    <tr>\n",
       "      <th>4</th>\n",
       "      <td>7622406570</td>\n",
       "      <td>378.0</td>\n",
       "      <td>0</td>\n",
       "      <td>0</td>\n",
       "      <td>1</td>\n",
       "      <td>0</td>\n",
       "      <td>3</td>\n",
       "      <td>2</td>\n",
       "      <td>0</td>\n",
       "      <td>1</td>\n",
       "    </tr>\n",
       "  </tbody>\n",
       "</table>\n",
       "</div>"
      ],
      "text/plain": [
       "   transactionId  totalAmount  returnLabel  customerType_new  basket_cat_0  \\\n",
       "0     9534310106        252.0            1                 1             0   \n",
       "1     7202594767         70.0            0                 0             1   \n",
       "2     2737331698         84.0            0                 0             0   \n",
       "3     4868011733        116.0            0                 0             0   \n",
       "4     7622406570        378.0            0                 0             1   \n",
       "\n",
       "   basket_cat_1  basket_cat_2  basket_cat_3  basket_cat_4  basket_cat_5  \n",
       "0             0             0             1             2             0  \n",
       "1             0             2             0             1             1  \n",
       "2             0             0             0             0             1  \n",
       "3             1             1             0             2             0  \n",
       "4             0             3             2             0             1  "
      ]
     },
     "execution_count": 13,
     "metadata": {},
     "output_type": "execute_result"
    }
   ],
   "source": [
    "train_df['basket'] = train_df['basket'].apply(ast.literal_eval)\n",
    "train_df['basket_counts'] = train_df['basket'].apply(lambda x: Counter(x))\n",
    "\n",
    "for i in range(6):\n",
    "    train_df[f'basket_cat_{i}'] = train_df['basket_counts'].apply(lambda c: c.get(i, 0))\n",
    "\n",
    "train_df.drop(columns=['basket', 'basket_counts'], inplace=True)\n",
    "train_df.head()"
   ]
  },
  {
   "cell_type": "markdown",
   "id": "914082d3-e677-493d-b756-07cf71f11d16",
   "metadata": {},
   "source": [
    "### 6. Skalieren Sie die Features mit einem StandardScaler."
   ]
  },
  {
   "cell_type": "code",
   "execution_count": 14,
   "id": "b8a39d00-06eb-4f4e-9800-25fdb158bec3",
   "metadata": {},
   "outputs": [
    {
     "data": {
      "text/html": [
       "<div>\n",
       "<style scoped>\n",
       "    .dataframe tbody tr th:only-of-type {\n",
       "        vertical-align: middle;\n",
       "    }\n",
       "\n",
       "    .dataframe tbody tr th {\n",
       "        vertical-align: top;\n",
       "    }\n",
       "\n",
       "    .dataframe thead th {\n",
       "        text-align: right;\n",
       "    }\n",
       "</style>\n",
       "<table border=\"1\" class=\"dataframe\">\n",
       "  <thead>\n",
       "    <tr style=\"text-align: right;\">\n",
       "      <th></th>\n",
       "      <th>transactionId</th>\n",
       "      <th>totalAmount</th>\n",
       "      <th>returnLabel</th>\n",
       "      <th>customerType_new</th>\n",
       "      <th>basket_cat_0</th>\n",
       "      <th>basket_cat_1</th>\n",
       "      <th>basket_cat_2</th>\n",
       "      <th>basket_cat_3</th>\n",
       "      <th>basket_cat_4</th>\n",
       "      <th>basket_cat_5</th>\n",
       "    </tr>\n",
       "  </thead>\n",
       "  <tbody>\n",
       "    <tr>\n",
       "      <th>0</th>\n",
       "      <td>9534310106</td>\n",
       "      <td>-0.032823</td>\n",
       "      <td>1</td>\n",
       "      <td>1</td>\n",
       "      <td>-0.771563</td>\n",
       "      <td>-0.767737</td>\n",
       "      <td>-0.775046</td>\n",
       "      <td>0.075189</td>\n",
       "      <td>0.634586</td>\n",
       "      <td>-0.644106</td>\n",
       "    </tr>\n",
       "    <tr>\n",
       "      <th>1</th>\n",
       "      <td>7202594767</td>\n",
       "      <td>-0.879459</td>\n",
       "      <td>0</td>\n",
       "      <td>0</td>\n",
       "      <td>0.383487</td>\n",
       "      <td>-0.767737</td>\n",
       "      <td>1.514422</td>\n",
       "      <td>-0.880132</td>\n",
       "      <td>-0.122402</td>\n",
       "      <td>0.527090</td>\n",
       "    </tr>\n",
       "    <tr>\n",
       "      <th>2</th>\n",
       "      <td>2737331698</td>\n",
       "      <td>-0.814334</td>\n",
       "      <td>0</td>\n",
       "      <td>0</td>\n",
       "      <td>-0.771563</td>\n",
       "      <td>-0.767737</td>\n",
       "      <td>-0.775046</td>\n",
       "      <td>-0.880132</td>\n",
       "      <td>-0.879391</td>\n",
       "      <td>0.527090</td>\n",
       "    </tr>\n",
       "    <tr>\n",
       "      <th>3</th>\n",
       "      <td>4868011733</td>\n",
       "      <td>-0.665475</td>\n",
       "      <td>0</td>\n",
       "      <td>0</td>\n",
       "      <td>-0.771563</td>\n",
       "      <td>0.391580</td>\n",
       "      <td>0.369688</td>\n",
       "      <td>-0.880132</td>\n",
       "      <td>0.634586</td>\n",
       "      <td>-0.644106</td>\n",
       "    </tr>\n",
       "    <tr>\n",
       "      <th>4</th>\n",
       "      <td>7622406570</td>\n",
       "      <td>0.553309</td>\n",
       "      <td>0</td>\n",
       "      <td>0</td>\n",
       "      <td>0.383487</td>\n",
       "      <td>-0.767737</td>\n",
       "      <td>2.659156</td>\n",
       "      <td>1.030510</td>\n",
       "      <td>-0.879391</td>\n",
       "      <td>0.527090</td>\n",
       "    </tr>\n",
       "  </tbody>\n",
       "</table>\n",
       "</div>"
      ],
      "text/plain": [
       "   transactionId  totalAmount  returnLabel  customerType_new  basket_cat_0  \\\n",
       "0     9534310106    -0.032823            1                 1     -0.771563   \n",
       "1     7202594767    -0.879459            0                 0      0.383487   \n",
       "2     2737331698    -0.814334            0                 0     -0.771563   \n",
       "3     4868011733    -0.665475            0                 0     -0.771563   \n",
       "4     7622406570     0.553309            0                 0      0.383487   \n",
       "\n",
       "   basket_cat_1  basket_cat_2  basket_cat_3  basket_cat_4  basket_cat_5  \n",
       "0     -0.767737     -0.775046      0.075189      0.634586     -0.644106  \n",
       "1     -0.767737      1.514422     -0.880132     -0.122402      0.527090  \n",
       "2     -0.767737     -0.775046     -0.880132     -0.879391      0.527090  \n",
       "3      0.391580      0.369688     -0.880132      0.634586     -0.644106  \n",
       "4     -0.767737      2.659156      1.030510     -0.879391      0.527090  "
      ]
     },
     "execution_count": 14,
     "metadata": {},
     "output_type": "execute_result"
    }
   ],
   "source": [
    "features_to_scale = [\"totalAmount\", \"basket_cat_0\", \"basket_cat_1\", \"basket_cat_2\", \"basket_cat_3\", \"basket_cat_4\", \"basket_cat_5\"]\n",
    "scaler = StandardScaler()\n",
    "train_df[features_to_scale] = scaler.fit_transform(train_df[features_to_scale])\n",
    "train_df.head()"
   ]
  },
  {
   "cell_type": "markdown",
   "id": "2694706e",
   "metadata": {},
   "source": [
    "### 7. Trainieren Sie die folgenden Klassifikationsmodelle und probieren Sie die angegebenen Hyperparameter mittels Cross-Validation aus"
   ]
  },
  {
   "cell_type": "code",
   "execution_count": 15,
   "id": "159e7a21-2cca-4ec9-96af-3a38fa47b19a",
   "metadata": {},
   "outputs": [],
   "source": [
    "x_train = train_df.drop(columns=['returnLabel'])\n",
    "y_train = train_df['returnLabel']"
   ]
  },
  {
   "cell_type": "markdown",
   "id": "6fc95f27",
   "metadata": {},
   "source": [
    "#### 1. Logistische Regression: C :[0.1,1,4,5,6,10,30,100] und penalty: [\"l1\", \"l2\"]"
   ]
  },
  {
   "cell_type": "code",
   "execution_count": 16,
   "id": "4b4e654e",
   "metadata": {},
   "outputs": [
    {
     "name": "stderr",
     "output_type": "stream",
     "text": [
      "C:\\Users\\david\\miniconda3\\envs\\ml-course\\lib\\site-packages\\sklearn\\svm\\_base.py:1242: ConvergenceWarning: Liblinear failed to converge, increase the number of iterations.\n",
      "  warnings.warn(\n"
     ]
    }
   ],
   "source": [
    "parameter_lr = [{'C': [0.1, 1, 4, 5, 6, 10, 30, 100], 'penalty': ['l1', 'l2']}]\n",
    "\n",
    "log = LogisticRegression(solver = 'liblinear', max_iter = 500)\n",
    "grid_lr = GridSearchCV(estimator = log, param_grid = parameter_lr, n_jobs =- 1)\n",
    "grid_lr.fit(x_train, y_train)\n",
    "log_best_model = grid_lr.best_estimator_"
   ]
  },
  {
   "cell_type": "code",
   "execution_count": 17,
   "id": "83d4b913",
   "metadata": {},
   "outputs": [
    {
     "name": "stdout",
     "output_type": "stream",
     "text": [
      "Best C: 1\n",
      "Best penalty: l1\n"
     ]
    }
   ],
   "source": [
    "print('Best C:', grid_lr.best_estimator_.C)\n",
    "print('Best penalty:', grid_lr.best_estimator_.penalty)"
   ]
  },
  {
   "cell_type": "markdown",
   "id": "6ac550f8",
   "metadata": {},
   "source": [
    "#### 2. Random Forest: n_estimators: [60,80,100,120,140] und max_depth: [2, 4, 6]"
   ]
  },
  {
   "cell_type": "code",
   "execution_count": 18,
   "id": "4095128a",
   "metadata": {},
   "outputs": [],
   "source": [
    "parameter = [{'n_estimators': [60,80,100,120,140], 'max_depth': [2, 4, 6]}]\n",
    "\n",
    "rf = RandomForestClassifier(random_state=0)\n",
    "grid_rf = GridSearchCV(estimator=rf, param_grid=parameter, n_jobs=-1)\n",
    "grid_rf.fit(x_train, y_train)\n",
    "rf_bestModel = grid_rf.best_estimator_"
   ]
  },
  {
   "cell_type": "code",
   "execution_count": 19,
   "id": "caee0ab0",
   "metadata": {},
   "outputs": [
    {
     "name": "stdout",
     "output_type": "stream",
     "text": [
      "Best n_estimators: 120\n",
      "Best max_depth: 6\n"
     ]
    }
   ],
   "source": [
    "print ('Best n_estimators:', grid_rf.best_estimator_.n_estimators)\n",
    "print ('Best max_depth:', grid_rf.best_estimator_.max_depth)"
   ]
  },
  {
   "cell_type": "markdown",
   "id": "2c7dda5d",
   "metadata": {},
   "source": [
    "#### 3. Gradient Boosting Tree: gleiche Hyperparameter wie bei Random Forest."
   ]
  },
  {
   "cell_type": "code",
   "execution_count": 20,
   "id": "3c237fd4",
   "metadata": {},
   "outputs": [],
   "source": [
    "parameter = [{'n_estimators': [60,80,100,120,140], 'max_depth': [2, 4, 6]}]\n",
    "\n",
    "gbt = GradientBoostingClassifier(random_state=0)\n",
    "grid_gbt = GridSearchCV(estimator=gbt, param_grid=parameter, n_jobs=-1)\n",
    "grid_gbt.fit(x_train, y_train)\n",
    "gbt_bestModel = grid_gbt.best_estimator_"
   ]
  },
  {
   "cell_type": "code",
   "execution_count": 21,
   "id": "952963fe",
   "metadata": {},
   "outputs": [
    {
     "name": "stdout",
     "output_type": "stream",
     "text": [
      "Best n_estimators: 80\n",
      "Best max_depth: 6\n"
     ]
    }
   ],
   "source": [
    "print('Best n_estimators:', grid_gbt.best_estimator_.n_estimators) \n",
    "print('Best max_depth:', grid_gbt.best_estimator_.max_depth)"
   ]
  },
  {
   "cell_type": "markdown",
   "id": "c037c889",
   "metadata": {},
   "source": [
    "### 8. Laden Sie die Testdaten"
   ]
  },
  {
   "cell_type": "code",
   "execution_count": 22,
   "id": "86a258be",
   "metadata": {},
   "outputs": [
    {
     "data": {
      "text/html": [
       "<div>\n",
       "<style scoped>\n",
       "    .dataframe tbody tr th:only-of-type {\n",
       "        vertical-align: middle;\n",
       "    }\n",
       "\n",
       "    .dataframe tbody tr th {\n",
       "        vertical-align: top;\n",
       "    }\n",
       "\n",
       "    .dataframe thead th {\n",
       "        text-align: right;\n",
       "    }\n",
       "</style>\n",
       "<table border=\"1\" class=\"dataframe\">\n",
       "  <thead>\n",
       "    <tr style=\"text-align: right;\">\n",
       "      <th></th>\n",
       "      <th>transactionId</th>\n",
       "      <th>basket</th>\n",
       "      <th>customerType</th>\n",
       "      <th>totalAmount</th>\n",
       "      <th>returnLabel</th>\n",
       "    </tr>\n",
       "  </thead>\n",
       "  <tbody>\n",
       "    <tr>\n",
       "      <th>0</th>\n",
       "      <td>4132523932</td>\n",
       "      <td>[4, 3, 4, 3, 2, 3]</td>\n",
       "      <td>existing</td>\n",
       "      <td>366.0</td>\n",
       "      <td>1</td>\n",
       "    </tr>\n",
       "    <tr>\n",
       "      <th>1</th>\n",
       "      <td>8998574539</td>\n",
       "      <td>[3, 4, 4, 3, 5]</td>\n",
       "      <td>existing</td>\n",
       "      <td>85.0</td>\n",
       "      <td>0</td>\n",
       "    </tr>\n",
       "    <tr>\n",
       "      <th>2</th>\n",
       "      <td>9346688547</td>\n",
       "      <td>[1, 1, 2, 2, 4, 4, 3, 1, 1, 0, 3]</td>\n",
       "      <td>existing</td>\n",
       "      <td>275.0</td>\n",
       "      <td>0</td>\n",
       "    </tr>\n",
       "    <tr>\n",
       "      <th>3</th>\n",
       "      <td>4533897707</td>\n",
       "      <td>[3, 2, 2, 1, 5, 1, 1, 0]</td>\n",
       "      <td>existing</td>\n",
       "      <td>528.0</td>\n",
       "      <td>0</td>\n",
       "    </tr>\n",
       "    <tr>\n",
       "      <th>4</th>\n",
       "      <td>3334800500</td>\n",
       "      <td>[4, 2, 3, 5, 2, 5, 1]</td>\n",
       "      <td>existing</td>\n",
       "      <td>287.0</td>\n",
       "      <td>0</td>\n",
       "    </tr>\n",
       "    <tr>\n",
       "      <th>...</th>\n",
       "      <td>...</td>\n",
       "      <td>...</td>\n",
       "      <td>...</td>\n",
       "      <td>...</td>\n",
       "      <td>...</td>\n",
       "    </tr>\n",
       "    <tr>\n",
       "      <th>9595</th>\n",
       "      <td>7995301628</td>\n",
       "      <td>[1, 3]</td>\n",
       "      <td>existing</td>\n",
       "      <td>66.0</td>\n",
       "      <td>0</td>\n",
       "    </tr>\n",
       "    <tr>\n",
       "      <th>9596</th>\n",
       "      <td>7387398375</td>\n",
       "      <td>[1, 4, 3, 3]</td>\n",
       "      <td>existing</td>\n",
       "      <td>40.0</td>\n",
       "      <td>0</td>\n",
       "    </tr>\n",
       "    <tr>\n",
       "      <th>9597</th>\n",
       "      <td>2777556607</td>\n",
       "      <td>[4]</td>\n",
       "      <td>existing</td>\n",
       "      <td>126.0</td>\n",
       "      <td>1</td>\n",
       "    </tr>\n",
       "    <tr>\n",
       "      <th>9598</th>\n",
       "      <td>7205276301</td>\n",
       "      <td>[4, 5, 4, 1, 0, 2, 0]</td>\n",
       "      <td>existing</td>\n",
       "      <td>70.0</td>\n",
       "      <td>0</td>\n",
       "    </tr>\n",
       "    <tr>\n",
       "      <th>9599</th>\n",
       "      <td>2357221024</td>\n",
       "      <td>[1, 4]</td>\n",
       "      <td>existing</td>\n",
       "      <td>142.0</td>\n",
       "      <td>0</td>\n",
       "    </tr>\n",
       "  </tbody>\n",
       "</table>\n",
       "<p>9600 rows × 5 columns</p>\n",
       "</div>"
      ],
      "text/plain": [
       "      transactionId                             basket customerType  \\\n",
       "0        4132523932                 [4, 3, 4, 3, 2, 3]     existing   \n",
       "1        8998574539                    [3, 4, 4, 3, 5]     existing   \n",
       "2        9346688547  [1, 1, 2, 2, 4, 4, 3, 1, 1, 0, 3]     existing   \n",
       "3        4533897707           [3, 2, 2, 1, 5, 1, 1, 0]     existing   \n",
       "4        3334800500              [4, 2, 3, 5, 2, 5, 1]     existing   \n",
       "...             ...                                ...          ...   \n",
       "9595     7995301628                             [1, 3]     existing   \n",
       "9596     7387398375                       [1, 4, 3, 3]     existing   \n",
       "9597     2777556607                                [4]     existing   \n",
       "9598     7205276301              [4, 5, 4, 1, 0, 2, 0]     existing   \n",
       "9599     2357221024                             [1, 4]     existing   \n",
       "\n",
       "      totalAmount  returnLabel  \n",
       "0           366.0            1  \n",
       "1            85.0            0  \n",
       "2           275.0            0  \n",
       "3           528.0            0  \n",
       "4           287.0            0  \n",
       "...           ...          ...  \n",
       "9595         66.0            0  \n",
       "9596         40.0            0  \n",
       "9597        126.0            1  \n",
       "9598         70.0            0  \n",
       "9599        142.0            0  \n",
       "\n",
       "[9600 rows x 5 columns]"
      ]
     },
     "execution_count": 22,
     "metadata": {},
     "output_type": "execute_result"
    }
   ],
   "source": [
    "test_df = pd.read_csv('data/test.csv', delimiter = ';')\n",
    "test_df"
   ]
  },
  {
   "cell_type": "markdown",
   "id": "5762708d",
   "metadata": {},
   "source": [
    "### 9. Entfernen Sie alle Zeilen mit fehlenden Werten."
   ]
  },
  {
   "cell_type": "code",
   "execution_count": 23,
   "id": "9350e436-8629-4ed9-9e15-aa3413460eec",
   "metadata": {},
   "outputs": [
    {
     "data": {
      "text/plain": [
       "transactionId      0\n",
       "basket             0\n",
       "customerType     203\n",
       "totalAmount      175\n",
       "returnLabel        0\n",
       "dtype: int64"
      ]
     },
     "execution_count": 23,
     "metadata": {},
     "output_type": "execute_result"
    }
   ],
   "source": [
    "test_df.isna().sum()"
   ]
  },
  {
   "cell_type": "code",
   "execution_count": 24,
   "id": "46a53e8d",
   "metadata": {},
   "outputs": [
    {
     "data": {
      "text/html": [
       "<div>\n",
       "<style scoped>\n",
       "    .dataframe tbody tr th:only-of-type {\n",
       "        vertical-align: middle;\n",
       "    }\n",
       "\n",
       "    .dataframe tbody tr th {\n",
       "        vertical-align: top;\n",
       "    }\n",
       "\n",
       "    .dataframe thead th {\n",
       "        text-align: right;\n",
       "    }\n",
       "</style>\n",
       "<table border=\"1\" class=\"dataframe\">\n",
       "  <thead>\n",
       "    <tr style=\"text-align: right;\">\n",
       "      <th></th>\n",
       "      <th>transactionId</th>\n",
       "      <th>basket</th>\n",
       "      <th>customerType</th>\n",
       "      <th>totalAmount</th>\n",
       "      <th>returnLabel</th>\n",
       "    </tr>\n",
       "  </thead>\n",
       "  <tbody>\n",
       "    <tr>\n",
       "      <th>0</th>\n",
       "      <td>4132523932</td>\n",
       "      <td>[4, 3, 4, 3, 2, 3]</td>\n",
       "      <td>existing</td>\n",
       "      <td>366.0</td>\n",
       "      <td>1</td>\n",
       "    </tr>\n",
       "    <tr>\n",
       "      <th>1</th>\n",
       "      <td>8998574539</td>\n",
       "      <td>[3, 4, 4, 3, 5]</td>\n",
       "      <td>existing</td>\n",
       "      <td>85.0</td>\n",
       "      <td>0</td>\n",
       "    </tr>\n",
       "    <tr>\n",
       "      <th>2</th>\n",
       "      <td>9346688547</td>\n",
       "      <td>[1, 1, 2, 2, 4, 4, 3, 1, 1, 0, 3]</td>\n",
       "      <td>existing</td>\n",
       "      <td>275.0</td>\n",
       "      <td>0</td>\n",
       "    </tr>\n",
       "    <tr>\n",
       "      <th>3</th>\n",
       "      <td>4533897707</td>\n",
       "      <td>[3, 2, 2, 1, 5, 1, 1, 0]</td>\n",
       "      <td>existing</td>\n",
       "      <td>528.0</td>\n",
       "      <td>0</td>\n",
       "    </tr>\n",
       "    <tr>\n",
       "      <th>4</th>\n",
       "      <td>3334800500</td>\n",
       "      <td>[4, 2, 3, 5, 2, 5, 1]</td>\n",
       "      <td>existing</td>\n",
       "      <td>287.0</td>\n",
       "      <td>0</td>\n",
       "    </tr>\n",
       "    <tr>\n",
       "      <th>...</th>\n",
       "      <td>...</td>\n",
       "      <td>...</td>\n",
       "      <td>...</td>\n",
       "      <td>...</td>\n",
       "      <td>...</td>\n",
       "    </tr>\n",
       "    <tr>\n",
       "      <th>9595</th>\n",
       "      <td>7995301628</td>\n",
       "      <td>[1, 3]</td>\n",
       "      <td>existing</td>\n",
       "      <td>66.0</td>\n",
       "      <td>0</td>\n",
       "    </tr>\n",
       "    <tr>\n",
       "      <th>9596</th>\n",
       "      <td>7387398375</td>\n",
       "      <td>[1, 4, 3, 3]</td>\n",
       "      <td>existing</td>\n",
       "      <td>40.0</td>\n",
       "      <td>0</td>\n",
       "    </tr>\n",
       "    <tr>\n",
       "      <th>9597</th>\n",
       "      <td>2777556607</td>\n",
       "      <td>[4]</td>\n",
       "      <td>existing</td>\n",
       "      <td>126.0</td>\n",
       "      <td>1</td>\n",
       "    </tr>\n",
       "    <tr>\n",
       "      <th>9598</th>\n",
       "      <td>7205276301</td>\n",
       "      <td>[4, 5, 4, 1, 0, 2, 0]</td>\n",
       "      <td>existing</td>\n",
       "      <td>70.0</td>\n",
       "      <td>0</td>\n",
       "    </tr>\n",
       "    <tr>\n",
       "      <th>9599</th>\n",
       "      <td>2357221024</td>\n",
       "      <td>[1, 4]</td>\n",
       "      <td>existing</td>\n",
       "      <td>142.0</td>\n",
       "      <td>0</td>\n",
       "    </tr>\n",
       "  </tbody>\n",
       "</table>\n",
       "<p>9226 rows × 5 columns</p>\n",
       "</div>"
      ],
      "text/plain": [
       "      transactionId                             basket customerType  \\\n",
       "0        4132523932                 [4, 3, 4, 3, 2, 3]     existing   \n",
       "1        8998574539                    [3, 4, 4, 3, 5]     existing   \n",
       "2        9346688547  [1, 1, 2, 2, 4, 4, 3, 1, 1, 0, 3]     existing   \n",
       "3        4533897707           [3, 2, 2, 1, 5, 1, 1, 0]     existing   \n",
       "4        3334800500              [4, 2, 3, 5, 2, 5, 1]     existing   \n",
       "...             ...                                ...          ...   \n",
       "9595     7995301628                             [1, 3]     existing   \n",
       "9596     7387398375                       [1, 4, 3, 3]     existing   \n",
       "9597     2777556607                                [4]     existing   \n",
       "9598     7205276301              [4, 5, 4, 1, 0, 2, 0]     existing   \n",
       "9599     2357221024                             [1, 4]     existing   \n",
       "\n",
       "      totalAmount  returnLabel  \n",
       "0           366.0            1  \n",
       "1            85.0            0  \n",
       "2           275.0            0  \n",
       "3           528.0            0  \n",
       "4           287.0            0  \n",
       "...           ...          ...  \n",
       "9595         66.0            0  \n",
       "9596         40.0            0  \n",
       "9597        126.0            1  \n",
       "9598         70.0            0  \n",
       "9599        142.0            0  \n",
       "\n",
       "[9226 rows x 5 columns]"
      ]
     },
     "execution_count": 24,
     "metadata": {},
     "output_type": "execute_result"
    }
   ],
   "source": [
    "test_df_NaN = test_df.dropna()\n",
    "test_df_NaN"
   ]
  },
  {
   "cell_type": "code",
   "execution_count": 25,
   "id": "d8ac9159",
   "metadata": {},
   "outputs": [
    {
     "data": {
      "text/plain": [
       "transactionId    0\n",
       "basket           0\n",
       "customerType     0\n",
       "totalAmount      0\n",
       "returnLabel      0\n",
       "dtype: int64"
      ]
     },
     "execution_count": 25,
     "metadata": {},
     "output_type": "execute_result"
    }
   ],
   "source": [
    "test_df_NaN.isna().sum()"
   ]
  },
  {
   "cell_type": "markdown",
   "id": "fd2f1656",
   "metadata": {},
   "source": [
    "### 10. Transformieren Sie die Attribute genauso wie bei den Trainingsdaten."
   ]
  },
  {
   "cell_type": "code",
   "execution_count": 26,
   "id": "63489bf3",
   "metadata": {},
   "outputs": [
    {
     "data": {
      "text/html": [
       "<div>\n",
       "<style scoped>\n",
       "    .dataframe tbody tr th:only-of-type {\n",
       "        vertical-align: middle;\n",
       "    }\n",
       "\n",
       "    .dataframe tbody tr th {\n",
       "        vertical-align: top;\n",
       "    }\n",
       "\n",
       "    .dataframe thead th {\n",
       "        text-align: right;\n",
       "    }\n",
       "</style>\n",
       "<table border=\"1\" class=\"dataframe\">\n",
       "  <thead>\n",
       "    <tr style=\"text-align: right;\">\n",
       "      <th></th>\n",
       "      <th>transactionId</th>\n",
       "      <th>basket</th>\n",
       "      <th>totalAmount</th>\n",
       "      <th>returnLabel</th>\n",
       "      <th>customerType_new</th>\n",
       "    </tr>\n",
       "  </thead>\n",
       "  <tbody>\n",
       "    <tr>\n",
       "      <th>0</th>\n",
       "      <td>4132523932</td>\n",
       "      <td>[4, 3, 4, 3, 2, 3]</td>\n",
       "      <td>366.0</td>\n",
       "      <td>1</td>\n",
       "      <td>0</td>\n",
       "    </tr>\n",
       "    <tr>\n",
       "      <th>1</th>\n",
       "      <td>8998574539</td>\n",
       "      <td>[3, 4, 4, 3, 5]</td>\n",
       "      <td>85.0</td>\n",
       "      <td>0</td>\n",
       "      <td>0</td>\n",
       "    </tr>\n",
       "    <tr>\n",
       "      <th>2</th>\n",
       "      <td>9346688547</td>\n",
       "      <td>[1, 1, 2, 2, 4, 4, 3, 1, 1, 0, 3]</td>\n",
       "      <td>275.0</td>\n",
       "      <td>0</td>\n",
       "      <td>0</td>\n",
       "    </tr>\n",
       "    <tr>\n",
       "      <th>3</th>\n",
       "      <td>4533897707</td>\n",
       "      <td>[3, 2, 2, 1, 5, 1, 1, 0]</td>\n",
       "      <td>528.0</td>\n",
       "      <td>0</td>\n",
       "      <td>0</td>\n",
       "    </tr>\n",
       "    <tr>\n",
       "      <th>4</th>\n",
       "      <td>3334800500</td>\n",
       "      <td>[4, 2, 3, 5, 2, 5, 1]</td>\n",
       "      <td>287.0</td>\n",
       "      <td>0</td>\n",
       "      <td>0</td>\n",
       "    </tr>\n",
       "  </tbody>\n",
       "</table>\n",
       "</div>"
      ],
      "text/plain": [
       "   transactionId                             basket  totalAmount  returnLabel  \\\n",
       "0     4132523932                 [4, 3, 4, 3, 2, 3]        366.0            1   \n",
       "1     8998574539                    [3, 4, 4, 3, 5]         85.0            0   \n",
       "2     9346688547  [1, 1, 2, 2, 4, 4, 3, 1, 1, 0, 3]        275.0            0   \n",
       "3     4533897707           [3, 2, 2, 1, 5, 1, 1, 0]        528.0            0   \n",
       "4     3334800500              [4, 2, 3, 5, 2, 5, 1]        287.0            0   \n",
       "\n",
       "   customerType_new  \n",
       "0                 0  \n",
       "1                 0  \n",
       "2                 0  \n",
       "3                 0  \n",
       "4                 0  "
      ]
     },
     "execution_count": 26,
     "metadata": {},
     "output_type": "execute_result"
    }
   ],
   "source": [
    "test_df = pd.get_dummies(test_df_NaN, columns=[\"customerType\"], dtype=int, drop_first=True)\n",
    "test_df.head()"
   ]
  },
  {
   "cell_type": "code",
   "execution_count": 27,
   "id": "f60f0280",
   "metadata": {},
   "outputs": [
    {
     "data": {
      "text/html": [
       "<div>\n",
       "<style scoped>\n",
       "    .dataframe tbody tr th:only-of-type {\n",
       "        vertical-align: middle;\n",
       "    }\n",
       "\n",
       "    .dataframe tbody tr th {\n",
       "        vertical-align: top;\n",
       "    }\n",
       "\n",
       "    .dataframe thead th {\n",
       "        text-align: right;\n",
       "    }\n",
       "</style>\n",
       "<table border=\"1\" class=\"dataframe\">\n",
       "  <thead>\n",
       "    <tr style=\"text-align: right;\">\n",
       "      <th></th>\n",
       "      <th>transactionId</th>\n",
       "      <th>totalAmount</th>\n",
       "      <th>returnLabel</th>\n",
       "      <th>customerType_new</th>\n",
       "      <th>basket_cat_0</th>\n",
       "      <th>basket_cat_1</th>\n",
       "      <th>basket_cat_2</th>\n",
       "      <th>basket_cat_3</th>\n",
       "      <th>basket_cat_4</th>\n",
       "      <th>basket_cat_5</th>\n",
       "    </tr>\n",
       "  </thead>\n",
       "  <tbody>\n",
       "    <tr>\n",
       "      <th>0</th>\n",
       "      <td>4132523932</td>\n",
       "      <td>366.0</td>\n",
       "      <td>1</td>\n",
       "      <td>0</td>\n",
       "      <td>0</td>\n",
       "      <td>0</td>\n",
       "      <td>1</td>\n",
       "      <td>3</td>\n",
       "      <td>2</td>\n",
       "      <td>0</td>\n",
       "    </tr>\n",
       "    <tr>\n",
       "      <th>1</th>\n",
       "      <td>8998574539</td>\n",
       "      <td>85.0</td>\n",
       "      <td>0</td>\n",
       "      <td>0</td>\n",
       "      <td>0</td>\n",
       "      <td>0</td>\n",
       "      <td>0</td>\n",
       "      <td>2</td>\n",
       "      <td>2</td>\n",
       "      <td>1</td>\n",
       "    </tr>\n",
       "    <tr>\n",
       "      <th>2</th>\n",
       "      <td>9346688547</td>\n",
       "      <td>275.0</td>\n",
       "      <td>0</td>\n",
       "      <td>0</td>\n",
       "      <td>1</td>\n",
       "      <td>4</td>\n",
       "      <td>2</td>\n",
       "      <td>2</td>\n",
       "      <td>2</td>\n",
       "      <td>0</td>\n",
       "    </tr>\n",
       "    <tr>\n",
       "      <th>3</th>\n",
       "      <td>4533897707</td>\n",
       "      <td>528.0</td>\n",
       "      <td>0</td>\n",
       "      <td>0</td>\n",
       "      <td>1</td>\n",
       "      <td>3</td>\n",
       "      <td>2</td>\n",
       "      <td>1</td>\n",
       "      <td>0</td>\n",
       "      <td>1</td>\n",
       "    </tr>\n",
       "    <tr>\n",
       "      <th>4</th>\n",
       "      <td>3334800500</td>\n",
       "      <td>287.0</td>\n",
       "      <td>0</td>\n",
       "      <td>0</td>\n",
       "      <td>0</td>\n",
       "      <td>1</td>\n",
       "      <td>2</td>\n",
       "      <td>1</td>\n",
       "      <td>1</td>\n",
       "      <td>2</td>\n",
       "    </tr>\n",
       "  </tbody>\n",
       "</table>\n",
       "</div>"
      ],
      "text/plain": [
       "   transactionId  totalAmount  returnLabel  customerType_new  basket_cat_0  \\\n",
       "0     4132523932        366.0            1                 0             0   \n",
       "1     8998574539         85.0            0                 0             0   \n",
       "2     9346688547        275.0            0                 0             1   \n",
       "3     4533897707        528.0            0                 0             1   \n",
       "4     3334800500        287.0            0                 0             0   \n",
       "\n",
       "   basket_cat_1  basket_cat_2  basket_cat_3  basket_cat_4  basket_cat_5  \n",
       "0             0             1             3             2             0  \n",
       "1             0             0             2             2             1  \n",
       "2             4             2             2             2             0  \n",
       "3             3             2             1             0             1  \n",
       "4             1             2             1             1             2  "
      ]
     },
     "execution_count": 27,
     "metadata": {},
     "output_type": "execute_result"
    }
   ],
   "source": [
    "test_df['basket'] = test_df['basket'].apply(ast.literal_eval)\n",
    "test_df['basket_counts'] = test_df['basket'].apply(lambda x: Counter(x))\n",
    "\n",
    "for i in range(6):\n",
    "    test_df[f'basket_cat_{i}'] = test_df['basket_counts'].apply(lambda c: c.get(i, 0))\n",
    "\n",
    "test_df.drop(columns=['basket', 'basket_counts'], inplace=True)\n",
    "test_df.head()"
   ]
  },
  {
   "cell_type": "markdown",
   "id": "e49132f9",
   "metadata": {},
   "source": [
    "### 11. Skalieren Sie die Daten im gleichem Maß wie die Trainingsdaten."
   ]
  },
  {
   "cell_type": "code",
   "execution_count": 28,
   "id": "7b3cb086",
   "metadata": {},
   "outputs": [
    {
     "data": {
      "text/html": [
       "<div>\n",
       "<style scoped>\n",
       "    .dataframe tbody tr th:only-of-type {\n",
       "        vertical-align: middle;\n",
       "    }\n",
       "\n",
       "    .dataframe tbody tr th {\n",
       "        vertical-align: top;\n",
       "    }\n",
       "\n",
       "    .dataframe thead th {\n",
       "        text-align: right;\n",
       "    }\n",
       "</style>\n",
       "<table border=\"1\" class=\"dataframe\">\n",
       "  <thead>\n",
       "    <tr style=\"text-align: right;\">\n",
       "      <th></th>\n",
       "      <th>transactionId</th>\n",
       "      <th>totalAmount</th>\n",
       "      <th>returnLabel</th>\n",
       "      <th>customerType_new</th>\n",
       "      <th>basket_cat_0</th>\n",
       "      <th>basket_cat_1</th>\n",
       "      <th>basket_cat_2</th>\n",
       "      <th>basket_cat_3</th>\n",
       "      <th>basket_cat_4</th>\n",
       "      <th>basket_cat_5</th>\n",
       "    </tr>\n",
       "  </thead>\n",
       "  <tbody>\n",
       "    <tr>\n",
       "      <th>0</th>\n",
       "      <td>4132523932</td>\n",
       "      <td>0.462354</td>\n",
       "      <td>1</td>\n",
       "      <td>0</td>\n",
       "      <td>-0.777495</td>\n",
       "      <td>-0.784618</td>\n",
       "      <td>0.392539</td>\n",
       "      <td>1.988715</td>\n",
       "      <td>0.623829</td>\n",
       "      <td>-0.652663</td>\n",
       "    </tr>\n",
       "    <tr>\n",
       "      <th>1</th>\n",
       "      <td>8998574539</td>\n",
       "      <td>-0.800293</td>\n",
       "      <td>0</td>\n",
       "      <td>0</td>\n",
       "      <td>-0.777495</td>\n",
       "      <td>-0.784618</td>\n",
       "      <td>-0.771951</td>\n",
       "      <td>1.032747</td>\n",
       "      <td>0.623829</td>\n",
       "      <td>0.525246</td>\n",
       "    </tr>\n",
       "    <tr>\n",
       "      <th>2</th>\n",
       "      <td>9346688547</td>\n",
       "      <td>0.053454</td>\n",
       "      <td>0</td>\n",
       "      <td>0</td>\n",
       "      <td>0.387927</td>\n",
       "      <td>3.847529</td>\n",
       "      <td>1.557029</td>\n",
       "      <td>1.032747</td>\n",
       "      <td>0.623829</td>\n",
       "      <td>-0.652663</td>\n",
       "    </tr>\n",
       "    <tr>\n",
       "      <th>3</th>\n",
       "      <td>4533897707</td>\n",
       "      <td>1.190286</td>\n",
       "      <td>0</td>\n",
       "      <td>0</td>\n",
       "      <td>0.387927</td>\n",
       "      <td>2.689492</td>\n",
       "      <td>1.557029</td>\n",
       "      <td>0.076780</td>\n",
       "      <td>-0.875570</td>\n",
       "      <td>0.525246</td>\n",
       "    </tr>\n",
       "    <tr>\n",
       "      <th>4</th>\n",
       "      <td>3334800500</td>\n",
       "      <td>0.107375</td>\n",
       "      <td>0</td>\n",
       "      <td>0</td>\n",
       "      <td>-0.777495</td>\n",
       "      <td>0.373419</td>\n",
       "      <td>1.557029</td>\n",
       "      <td>0.076780</td>\n",
       "      <td>-0.125871</td>\n",
       "      <td>1.703155</td>\n",
       "    </tr>\n",
       "  </tbody>\n",
       "</table>\n",
       "</div>"
      ],
      "text/plain": [
       "   transactionId  totalAmount  returnLabel  customerType_new  basket_cat_0  \\\n",
       "0     4132523932     0.462354            1                 0     -0.777495   \n",
       "1     8998574539    -0.800293            0                 0     -0.777495   \n",
       "2     9346688547     0.053454            0                 0      0.387927   \n",
       "3     4533897707     1.190286            0                 0      0.387927   \n",
       "4     3334800500     0.107375            0                 0     -0.777495   \n",
       "\n",
       "   basket_cat_1  basket_cat_2  basket_cat_3  basket_cat_4  basket_cat_5  \n",
       "0     -0.784618      0.392539      1.988715      0.623829     -0.652663  \n",
       "1     -0.784618     -0.771951      1.032747      0.623829      0.525246  \n",
       "2      3.847529      1.557029      1.032747      0.623829     -0.652663  \n",
       "3      2.689492      1.557029      0.076780     -0.875570      0.525246  \n",
       "4      0.373419      1.557029      0.076780     -0.125871      1.703155  "
      ]
     },
     "execution_count": 28,
     "metadata": {},
     "output_type": "execute_result"
    }
   ],
   "source": [
    "features_to_scale = [\"totalAmount\", \"basket_cat_0\", \"basket_cat_1\", \"basket_cat_2\", \"basket_cat_3\", \"basket_cat_4\", \"basket_cat_5\"]\n",
    "scaler = StandardScaler()\n",
    "test_df[features_to_scale] = scaler.fit_transform(test_df[features_to_scale])\n",
    "test_df.head()"
   ]
  },
  {
   "cell_type": "markdown",
   "id": "315371cf-7ece-4950-96ea-1de4f8249f7b",
   "metadata": {},
   "source": [
    "### 12. Machen Sie eine Vorhersage auf den Testdaten mit allen drei Modellen und den jeweils besten Hyperparametern aus der Cross Validation."
   ]
  },
  {
   "cell_type": "code",
   "execution_count": 29,
   "id": "be41b596-2fd9-4018-9ed2-537d420c26bf",
   "metadata": {},
   "outputs": [],
   "source": [
    "x_test = test_df.drop(columns=['returnLabel'])\n",
    "y_test = test_df['returnLabel']"
   ]
  },
  {
   "cell_type": "markdown",
   "id": "9e9d3462-467b-4414-b7e3-879bde02f858",
   "metadata": {},
   "source": [
    "#### 1. Logistische Regression"
   ]
  },
  {
   "cell_type": "code",
   "execution_count": 30,
   "id": "b75cee2b-77bc-4eb7-8f24-601dcee91fec",
   "metadata": {},
   "outputs": [],
   "source": [
    "y_pred_log = log_best_model.predict(x_test)"
   ]
  }
 ],
 "metadata": {
  "kernelspec": {
   "display_name": "Python 3 (ipykernel)",
   "language": "python",
   "name": "python3"
  },
  "language_info": {
   "codemirror_mode": {
    "name": "ipython",
    "version": 3
   },
   "file_extension": ".py",
   "mimetype": "text/x-python",
   "name": "python",
   "nbconvert_exporter": "python",
   "pygments_lexer": "ipython3",
   "version": "3.8.20"
  }
 },
 "nbformat": 4,
 "nbformat_minor": 5
}
